{
 "cells": [
  {
   "cell_type": "code",
   "execution_count": 1,
   "metadata": {},
   "outputs": [
    {
     "name": "stdout",
     "output_type": "stream",
     "text": [
      "WARNING:tensorflow:From c:\\Users\\Yogkan\\OneDrive - Temasek Polytechnic\\New folder\\envs\\MLDP_APR23_P01\\lib\\site-packages\\keras\\src\\losses.py:2976: The name tf.losses.sparse_softmax_cross_entropy is deprecated. Please use tf.compat.v1.losses.sparse_softmax_cross_entropy instead.\n",
      "\n",
      "Streamlit version: 1.23.1\n",
      "Pillow version: 9.4.0\n",
      "TensorFlow version: 2.15.0\n",
      "Numpy version: 1.23.5\n",
      "1.10.1\n"
     ]
    }
   ],
   "source": [
    "import scipy\n",
    "import streamlit as st\n",
    "import PIL\n",
    "import tensorflow as tf\n",
    "import numpy as np\n",
    "\n",
    "print(\"Streamlit version:\", st.__version__)\n",
    "print(\"Pillow version:\", PIL.__version__)\n",
    "print(\"TensorFlow version:\", tf.__version__)\n",
    "print(\"Numpy version:\", np.__version__)\n",
    "\n",
    "print(scipy.__version__)\n"
   ]
  }
 ],
 "metadata": {
  "kernelspec": {
   "display_name": "TensorFlow-GPU",
   "language": "python",
   "name": "python3"
  },
  "language_info": {
   "codemirror_mode": {
    "name": "ipython",
    "version": 3
   },
   "file_extension": ".py",
   "mimetype": "text/x-python",
   "name": "python",
   "nbconvert_exporter": "python",
   "pygments_lexer": "ipython3",
   "version": "3.10.10"
  }
 },
 "nbformat": 4,
 "nbformat_minor": 2
}
